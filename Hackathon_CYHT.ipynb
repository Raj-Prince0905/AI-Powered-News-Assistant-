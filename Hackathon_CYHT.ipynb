{
  "cells": [
    {
      "cell_type": "markdown",
      "metadata": {
        "id": "fHKfIqmEFJmJ"
      },
      "source": [
        "# **AI Powered News Assistant**"
      ]
    },
    {
      "cell_type": "markdown",
      "metadata": {
        "id": "Sxg5ZC-8Ohoh"
      },
      "source": [
        "## **Import libraries**"
      ]
    },
    {
      "cell_type": "code",
      "execution_count": 35,
      "metadata": {
        "id": "ZGH7F6V4lctZ"
      },
      "outputs": [],
      "source": [
        "import os\n",
        "import numpy as np\n",
        "import pandas as pd\n",
        "import nltk\n",
        "import requests\n",
        "from gtts import gTTS\n",
        "import tempfile\n",
        "import time\n",
        "from datetime import datetime\n",
        "import threading\n",
        "from bs4 import BeautifulSoup\n",
        "import streamlit as st\n",
        "from nltk.corpus import stopwords\n",
        "from nltk.tokenize import word_tokenize\n",
        "from nltk.stem import WordNetLemmatizer\n",
        "from sklearn.feature_extraction.text import TfidfVectorizer\n",
        "import language_tool_python\n",
        "from transformers import pipeline, AutoModelForSeq2SeqLM, AutoTokenizer\n",
        "from collections import Counter\n",
        "from sklearn.model_selection import train_test_split\n",
        "from sklearn.pipeline import Pipeline\n",
        "from sklearn.ensemble import RandomForestClassifier\n",
        "from sklearn.metrics import accuracy_score\n",
        "import gradio as gr\n",
        "import warnings\n",
        "warnings.filterwarnings(\"ignore\")"
      ]
    },
    {
      "cell_type": "markdown",
      "metadata": {
        "id": "fG_e6Gp72cyn"
      },
      "source": [
        "## **News Categorizer System**"
      ]
    },
    {
      "cell_type": "code",
      "execution_count": 36,
      "metadata": {
        "colab": {
          "base_uri": "https://localhost:8080/"
        },
        "id": "MYz6AGhN2fwh",
        "outputId": "7b903321-e951-46d1-8c94-08cf121dd227"
      },
      "outputs": [
        {
          "output_type": "stream",
          "name": "stdout",
          "text": [
            "Fetching business news...\n",
            "Fetching entertainment news...\n",
            "Fetching general news...\n",
            "Fetching health news...\n",
            "Fetching science news...\n",
            "Fetching sports news...\n",
            "Fetching technology news...\n"
          ]
        }
      ],
      "source": [
        "API_KEY = '8a9481f1cda44b65a209c39bca3851f7'\n",
        "BASE_URL = 'https://newsapi.org/v2/top-headlines'\n",
        "\n",
        "def fetch_news(category='general'):\n",
        "    params = {\n",
        "        'apiKey': API_KEY,\n",
        "        'category': category,\n",
        "        'country': 'in',\n",
        "        'pageSize': 100  # Number of articles to fetch\n",
        "    }\n",
        "\n",
        "    response = requests.get(BASE_URL, params=params)\n",
        "    if response.status_code == 200:\n",
        "        return response.json()['articles']\n",
        "    else:\n",
        "        return []\n",
        "\n",
        "def process_news(articles):\n",
        "    news_data = []\n",
        "    for article in articles:\n",
        "        news_data.append({\n",
        "            'title': article['title'],\n",
        "            'url': article['url'],\n",
        "            'description': article['description'],\n",
        "            'publishedAt': article['publishedAt'],\n",
        "            'category': article.get('category', 'general')\n",
        "        })\n",
        "    return pd.DataFrame(news_data)\n",
        "\n",
        "def get_news_data():\n",
        "    categories = ['business', 'entertainment', 'general', 'health', 'science', 'sports', 'technology']\n",
        "    news_dfs = {}\n",
        "\n",
        "    for category in categories:\n",
        "        print(f\"Fetching {category} news...\")\n",
        "        articles = fetch_news(category)\n",
        "        news_dfs[category] = process_news(articles)\n",
        "\n",
        "    return news_dfs\n",
        "\n",
        "# Fetch and store news data\n",
        "news_data = get_news_data()"
      ]
    },
    {
      "cell_type": "code",
      "execution_count": 37,
      "metadata": {
        "id": "ctkuU3L-61QC",
        "colab": {
          "base_uri": "https://localhost:8080/",
          "height": 645
        },
        "outputId": "8b94b8dc-894c-4c24-f0b6-81144d937dbf"
      },
      "outputs": [
        {
          "output_type": "stream",
          "name": "stdout",
          "text": [
            "Setting queue=True in a Colab notebook requires sharing enabled. Setting `share=True` (you can turn this off by setting `share=False` in `launch()` explicitly).\n",
            "\n",
            "Colab notebook detected. To show errors in colab notebook, set debug=True in launch()\n",
            "Running on public URL: https://36ceb66deafa3f8398.gradio.live\n",
            "\n",
            "This share link expires in 72 hours. For free permanent hosting and GPU upgrades, run `gradio deploy` from Terminal to deploy to Spaces (https://huggingface.co/spaces)\n"
          ]
        },
        {
          "output_type": "display_data",
          "data": {
            "text/plain": [
              "<IPython.core.display.HTML object>"
            ],
            "text/html": [
              "<div><iframe src=\"https://36ceb66deafa3f8398.gradio.live\" width=\"100%\" height=\"500\" allow=\"autoplay; camera; microphone; clipboard-read; clipboard-write;\" frameborder=\"0\" allowfullscreen></iframe></div>"
            ]
          },
          "metadata": {}
        },
        {
          "output_type": "execute_result",
          "data": {
            "text/plain": []
          },
          "metadata": {},
          "execution_count": 37
        }
      ],
      "source": [
        "def recommend_news(category):\n",
        "    df = news_data.get(category, pd.DataFrame())\n",
        "    if df.empty:\n",
        "      return \"No news available for this category.\"\n",
        "    else:\n",
        "      recommendations = []\n",
        "      for _, row in df.iterrows():\n",
        "        recommendations.append({\n",
        "            'title': row['title'],\n",
        "            'publishedAt': row['publishedAt'],\n",
        "            'url': row['url']\n",
        "            })\n",
        "      return recommendations\n",
        "\n",
        "\n",
        "# Create a Gradio interface\n",
        "interface = gr.Interface(\n",
        "    fn=recommend_news,\n",
        "    inputs=gr.Dropdown(choices=['business', 'entertainment', 'general', 'health', 'science', 'sports', 'technology'], label=\"Select News Category\"),\n",
        "    outputs=gr.JSON(label=\"News Recommendations\"),\n",
        "    live=True\n",
        ")\n",
        "\n",
        "interface.launch()"
      ]
    },
    {
      "cell_type": "markdown",
      "metadata": {
        "id": "9pYDZ-q9mKwr"
      },
      "source": [
        "## **AI-Assisted Writer**"
      ]
    },
    {
      "cell_type": "code",
      "execution_count": 38,
      "metadata": {
        "id": "1JhTFelsmYQQ"
      },
      "outputs": [],
      "source": [
        "model_name = \"t5-base\"\n",
        "tokenizer = AutoTokenizer.from_pretrained(model_name)\n",
        "model = AutoModelForSeq2SeqLM.from_pretrained(model_name)\n",
        "\n",
        "summarization_pipeline = pipeline(\"summarization\", model=model, tokenizer=tokenizer)"
      ]
    },
    {
      "cell_type": "code",
      "execution_count": 39,
      "metadata": {
        "id": "1ilviw7zmaaw"
      },
      "outputs": [],
      "source": [
        "tool = language_tool_python.LanguageTool('en-US')\n",
        "\n",
        "def grammar_check(text):\n",
        "    matches = tool.check(text)\n",
        "    corrections = []\n",
        "    for match in matches:\n",
        "        corrections.append({\n",
        "            \"mistake\": match.context,\n",
        "            \"suggestion\": match.replacements,\n",
        "            \"message\": match.message\n",
        "        })\n",
        "    return corrections"
      ]
    },
    {
      "cell_type": "code",
      "execution_count": 40,
      "metadata": {
        "id": "nNWy42Yxmf8z"
      },
      "outputs": [],
      "source": [
        "def suggest_improvements(text):\n",
        "    # Summarize the input text to get a suggestion for improvement\n",
        "    suggestions = summarization_pipeline(text, max_length=50, min_length=25, do_sample=False)\n",
        "    return suggestions[0]['summary_text']"
      ]
    },
    {
      "cell_type": "code",
      "execution_count": 41,
      "metadata": {
        "id": "DA8W-2_Omvgm"
      },
      "outputs": [],
      "source": [
        "def ai_assistant_writer(text):\n",
        "    suggestions = suggest_improvements(text)\n",
        "    grammar_corrections = grammar_check(text)\n",
        "\n",
        "    return {\n",
        "        \"Original Text\": text,\n",
        "        \"Suggestions\": suggestions,\n",
        "        \"Grammar Corrections\": grammar_corrections\n",
        "    }"
      ]
    },
    {
      "cell_type": "code",
      "execution_count": 42,
      "metadata": {
        "colab": {
          "base_uri": "https://localhost:8080/",
          "height": 645
        },
        "id": "OGdW6AQTmyn6",
        "outputId": "a177aa11-7666-46c3-8845-cb62fd097a34"
      },
      "outputs": [
        {
          "output_type": "stream",
          "name": "stdout",
          "text": [
            "Setting queue=True in a Colab notebook requires sharing enabled. Setting `share=True` (you can turn this off by setting `share=False` in `launch()` explicitly).\n",
            "\n",
            "Colab notebook detected. To show errors in colab notebook, set debug=True in launch()\n",
            "Running on public URL: https://f9d41fc52cd888aeb0.gradio.live\n",
            "\n",
            "This share link expires in 72 hours. For free permanent hosting and GPU upgrades, run `gradio deploy` from Terminal to deploy to Spaces (https://huggingface.co/spaces)\n"
          ]
        },
        {
          "output_type": "display_data",
          "data": {
            "text/plain": [
              "<IPython.core.display.HTML object>"
            ],
            "text/html": [
              "<div><iframe src=\"https://f9d41fc52cd888aeb0.gradio.live\" width=\"100%\" height=\"500\" allow=\"autoplay; camera; microphone; clipboard-read; clipboard-write;\" frameborder=\"0\" allowfullscreen></iframe></div>"
            ]
          },
          "metadata": {}
        },
        {
          "output_type": "execute_result",
          "data": {
            "text/plain": []
          },
          "metadata": {},
          "execution_count": 42
        }
      ],
      "source": [
        "def gradio_interface(text):\n",
        "    results = ai_assistant_writer(text)\n",
        "    return results[\"Suggestions\"], results[\"Grammar Corrections\"]\n",
        "\n",
        "iface = gr.Interface(\n",
        "    fn=gradio_interface,\n",
        "    inputs=gr.Textbox(lines=10, placeholder=\"Type your paragraph here...\"),\n",
        "    outputs=[\n",
        "        gr.Textbox(label=\"Suggestions\"),\n",
        "        gr.JSON(label=\"Grammar Corrections\")\n",
        "    ],\n",
        "    title=\"AI-Assisted Writer\",\n",
        "    description=\"This AI tool offers suggestions, grammar checks, and style improvements for your writing.\",\n",
        ")\n",
        "\n",
        "iface.launch()"
      ]
    },
    {
      "cell_type": "markdown",
      "metadata": {
        "id": "qeFGNsdGCn_k"
      },
      "source": [
        "## **Text To Speech (TTS) Model**"
      ]
    },
    {
      "cell_type": "code",
      "execution_count": 43,
      "metadata": {
        "id": "XI1CZs9rC80n"
      },
      "outputs": [],
      "source": [
        "def text_to_speech(text):\n",
        "    # Create a gTTS object\n",
        "    tts = gTTS(text=text, lang='en')\n",
        "\n",
        "    # Save the audio file to a temporary location\n",
        "    with tempfile.NamedTemporaryFile(delete=False, suffix='.mp3') as temp_file:\n",
        "        temp_file_path = temp_file.name\n",
        "        tts.save(temp_file_path)\n",
        "\n",
        "    # Return the path of the saved audio file\n",
        "    return temp_file_path"
      ]
    },
    {
      "cell_type": "code",
      "execution_count": 44,
      "metadata": {
        "id": "a7SHT2l8DB1g"
      },
      "outputs": [],
      "source": [
        "def create_gradio_interface():\n",
        "    # Define Gradio interface\n",
        "    interface = gr.Interface(\n",
        "        fn=text_to_speech,               # Function to call\n",
        "        inputs=gr.Textbox(lines=2, placeholder=\"Enter text here...\"),  # Input component\n",
        "        outputs=gr.Audio(type=\"filepath\"),    # Output component\n",
        "        title=\"Text to Speech Converter\", # Title of the interface\n",
        "        description=\"Enter text and get the audio file as output.\"  # Description\n",
        "    )\n",
        "\n",
        "    # Launch the interface\n",
        "    interface.launch()"
      ]
    },
    {
      "cell_type": "code",
      "execution_count": 45,
      "metadata": {
        "colab": {
          "base_uri": "https://localhost:8080/",
          "height": 645
        },
        "id": "utzGHcwGDFMf",
        "outputId": "51c98757-4c07-4d6c-a12c-b99bc21f9451"
      },
      "outputs": [
        {
          "output_type": "stream",
          "name": "stdout",
          "text": [
            "Setting queue=True in a Colab notebook requires sharing enabled. Setting `share=True` (you can turn this off by setting `share=False` in `launch()` explicitly).\n",
            "\n",
            "Colab notebook detected. To show errors in colab notebook, set debug=True in launch()\n",
            "Running on public URL: https://22ffe308575a046141.gradio.live\n",
            "\n",
            "This share link expires in 72 hours. For free permanent hosting and GPU upgrades, run `gradio deploy` from Terminal to deploy to Spaces (https://huggingface.co/spaces)\n"
          ]
        },
        {
          "output_type": "display_data",
          "data": {
            "text/plain": [
              "<IPython.core.display.HTML object>"
            ],
            "text/html": [
              "<div><iframe src=\"https://22ffe308575a046141.gradio.live\" width=\"100%\" height=\"500\" allow=\"autoplay; camera; microphone; clipboard-read; clipboard-write;\" frameborder=\"0\" allowfullscreen></iframe></div>"
            ]
          },
          "metadata": {}
        }
      ],
      "source": [
        "create_gradio_interface()"
      ]
    },
    {
      "cell_type": "markdown",
      "metadata": {
        "id": "i1Qu35OI1DN1"
      },
      "source": [
        "## **Real Time News Updater**"
      ]
    },
    {
      "cell_type": "code",
      "execution_count": 46,
      "metadata": {
        "colab": {
          "base_uri": "https://localhost:8080/",
          "height": 645
        },
        "id": "14sZO7P_1MAS",
        "outputId": "57f32c37-fc59-4d39-da61-13f7a1e38ab0"
      },
      "outputs": [
        {
          "output_type": "stream",
          "name": "stdout",
          "text": [
            "Setting queue=True in a Colab notebook requires sharing enabled. Setting `share=True` (you can turn this off by setting `share=False` in `launch()` explicitly).\n",
            "\n",
            "Colab notebook detected. To show errors in colab notebook, set debug=True in launch()\n",
            "Running on public URL: https://f86423521728c565c5.gradio.live\n",
            "\n",
            "This share link expires in 72 hours. For free permanent hosting and GPU upgrades, run `gradio deploy` from Terminal to deploy to Spaces (https://huggingface.co/spaces)\n"
          ]
        },
        {
          "output_type": "display_data",
          "data": {
            "text/plain": [
              "<IPython.core.display.HTML object>"
            ],
            "text/html": [
              "<div><iframe src=\"https://f86423521728c565c5.gradio.live\" width=\"100%\" height=\"500\" allow=\"autoplay; camera; microphone; clipboard-read; clipboard-write;\" frameborder=\"0\" allowfullscreen></iframe></div>"
            ]
          },
          "metadata": {}
        }
      ],
      "source": [
        "API_KEY = '8a9481f1cda44b65a209c39bca3851f7'\n",
        "BASE_URL = 'https://newsapi.org/v2/top-headlines'\n",
        "\n",
        "# Function to fetch breaking news\n",
        "def fetch_breaking_news():\n",
        "    params = {\n",
        "        'apiKey': API_KEY,\n",
        "        'country': 'in',\n",
        "        'category': 'general',\n",
        "        'pageSize': 100     # Number of articles to fetch\n",
        "    }\n",
        "\n",
        "    response = requests.get(BASE_URL, params=params)\n",
        "    if response.status_code == 200:\n",
        "        articles = response.json()['articles']\n",
        "        news_list = []\n",
        "        for article in articles:\n",
        "            news_list.append({\n",
        "                'title': article['title'],\n",
        "                'description': article['description'],\n",
        "                'publishedAt': article['publishedAt'],\n",
        "                'url': article['url'],\n",
        "            })\n",
        "        return news_list\n",
        "    else:\n",
        "        return []\n",
        "\n",
        "# Function to format news into a DataFrame\n",
        "def format_news(news_list):\n",
        "    df = pd.DataFrame(news_list)\n",
        "    if df.empty:\n",
        "        return \"No news available at the moment.\"\n",
        "    return df[['title','publishedAt' , 'url']].head(10).to_dict(orient='records')\n",
        "\n",
        "# Function to get the latest news\n",
        "def get_latest_news():\n",
        "    time.sleep(1)  # Simulate a delay of 1 second\n",
        "    news_list = fetch_breaking_news()\n",
        "    return format_news(news_list)\n",
        "\n",
        "# Function to create the Gradio interface\n",
        "def create_gradio_interface():\n",
        "    interface = gr.Interface(\n",
        "        fn=get_latest_news,                 # Function to call\n",
        "        inputs=[],                          # No inputs required\n",
        "        outputs=gr.JSON(label=\"Top 10 Breaking News in India\"),  # Output as JSON\n",
        "        title=\"Breaking News Updater\",       # Title\n",
        "        description=\"Click 'Refresh' to get the latest breaking news in India.\"  # Description\n",
        "    )\n",
        "    interface.launch()\n",
        "\n",
        "# Launch the Gradio interface\n",
        "create_gradio_interface()"
      ]
    },
    {
      "cell_type": "markdown",
      "metadata": {
        "id": "hJW2Vb3pOtYM"
      },
      "source": [
        "## **News Recommendation System**"
      ]
    },
    {
      "cell_type": "code",
      "execution_count": 47,
      "metadata": {
        "colab": {
          "base_uri": "https://localhost:8080/",
          "height": 645
        },
        "id": "1tI5fH_ZPcf7",
        "outputId": "79f2497e-e950-4bf3-9507-31f036336dc7"
      },
      "outputs": [
        {
          "output_type": "stream",
          "name": "stdout",
          "text": [
            "Setting queue=True in a Colab notebook requires sharing enabled. Setting `share=True` (you can turn this off by setting `share=False` in `launch()` explicitly).\n",
            "\n",
            "Colab notebook detected. To show errors in colab notebook, set debug=True in launch()\n",
            "Running on public URL: https://bc6f9666bc76e72b9a.gradio.live\n",
            "\n",
            "This share link expires in 72 hours. For free permanent hosting and GPU upgrades, run `gradio deploy` from Terminal to deploy to Spaces (https://huggingface.co/spaces)\n"
          ]
        },
        {
          "output_type": "display_data",
          "data": {
            "text/plain": [
              "<IPython.core.display.HTML object>"
            ],
            "text/html": [
              "<div><iframe src=\"https://bc6f9666bc76e72b9a.gradio.live\" width=\"100%\" height=\"500\" allow=\"autoplay; camera; microphone; clipboard-read; clipboard-write;\" frameborder=\"0\" allowfullscreen></iframe></div>"
            ]
          },
          "metadata": {}
        }
      ],
      "source": [
        "API_KEY = '8a9481f1cda44b65a209c39bca3851f7'\n",
        "BASE_URL = 'https://newsapi.org/v2/top-headlines'\n",
        "\n",
        "# Function to fetch news\n",
        "def fetch_news(category='general', country='in'):\n",
        "    params = {\n",
        "        'apiKey': API_KEY,\n",
        "        'category': category,\n",
        "        'country': country,\n",
        "        'pageSize': 1000\n",
        "    }\n",
        "\n",
        "    response = requests.get(BASE_URL, params=params)\n",
        "    if response.status_code == 200:\n",
        "        articles = response.json()['articles']\n",
        "        news_list = []\n",
        "        for article in articles:\n",
        "            news_list.append({\n",
        "                'title': article['title'],\n",
        "                'description': article['description'],\n",
        "                'url': article['url'],\n",
        "                'publishedAt': article['publishedAt'],\n",
        "                'category': category\n",
        "            })\n",
        "        return news_list\n",
        "    else:\n",
        "        return []\n",
        "\n",
        "\n",
        "# Example user preferences and history\n",
        "user_preferences = ['business', 'entertainment', 'general', 'health', 'science', 'sports', 'technology']\n",
        "user_reading_history = []\n",
        "\n",
        "def get_personalized_recommendations(news_data):\n",
        "    # Filter news based on user preferences\n",
        "    filtered_news = [news for news in news_data if news['category'] in user_preferences]\n",
        "    # Optionally, filter out news already read\n",
        "    filtered_news = [news for news in filtered_news if news not in user_reading_history]\n",
        "\n",
        "    # Sort by publish date\n",
        "    sorted_news = sorted(filtered_news, key=lambda x: x['publishedAt'], reverse=True)\n",
        "    return sorted_news[:10]\n",
        "\n",
        "def get_trending_topics(news_data):\n",
        "    # Count occurrences of each category to find trending topics\n",
        "    categories = [news['category'] for news in news_data]\n",
        "    category_counts = Counter(categories)\n",
        "    trending_categories = [item[0] for item in category_counts.most_common(5)]\n",
        "\n",
        "    # Get top news articles from trending categories\n",
        "    trending_news = [news for news in news_data if news['category'] in trending_categories]\n",
        "    trending_news = sorted(trending_news, key=lambda x: x['publishedAt'], reverse=True)\n",
        "    return trending_news[:10]\n",
        "\n",
        "def get_news_recommendations():\n",
        "    all_news = []\n",
        "    for category in user_preferences:\n",
        "        all_news.extend(fetch_news(category=category))\n",
        "\n",
        "    # Get personalized recommendations\n",
        "    personalized_recommendations = get_personalized_recommendations(all_news)\n",
        "\n",
        "    # Get trending topics\n",
        "    trending_news = get_trending_topics(all_news)\n",
        "\n",
        "    return {\n",
        "        'Personalized Recommendations': personalized_recommendations,\n",
        "        'Trending News': trending_news\n",
        "    }\n",
        "\n",
        "# Define Gradio interface\n",
        "def create_gradio_interface():\n",
        "    interface = gr.Interface(\n",
        "        fn=get_news_recommendations,    # Function to call\n",
        "        inputs=[],                      # No inputs required\n",
        "        outputs=[\n",
        "            gr.JSON(label=\"Personalized Recommendations\"),  # Output as JSON\n",
        "            gr.JSON(label=\"Trending News\")                  # Output as JSON\n",
        "        ],\n",
        "        title=\"Personalized News Recommendations\",  # Title\n",
        "        description=\"Get personalized news recommendations based on your preferences and see the latest trending news.\"  # Description\n",
        "    )\n",
        "    interface.launch()\n",
        "\n",
        "# Launch the Gradio interface\n",
        "create_gradio_interface()"
      ]
    },
    {
      "cell_type": "markdown",
      "metadata": {
        "id": "2_28TH9Rn6Bq"
      },
      "source": [
        "## **Automated Content Summarizer**"
      ]
    },
    {
      "cell_type": "code",
      "execution_count": 48,
      "metadata": {
        "colab": {
          "base_uri": "https://localhost:8080/",
          "height": 645
        },
        "id": "SY1YHGrwo457",
        "outputId": "3b447e71-46c3-455e-f53a-af67deeb7835"
      },
      "outputs": [
        {
          "output_type": "stream",
          "name": "stdout",
          "text": [
            "Setting queue=True in a Colab notebook requires sharing enabled. Setting `share=True` (you can turn this off by setting `share=False` in `launch()` explicitly).\n",
            "\n",
            "Colab notebook detected. To show errors in colab notebook, set debug=True in launch()\n",
            "Running on public URL: https://3c469f54819faac20b.gradio.live\n",
            "\n",
            "This share link expires in 72 hours. For free permanent hosting and GPU upgrades, run `gradio deploy` from Terminal to deploy to Spaces (https://huggingface.co/spaces)\n"
          ]
        },
        {
          "output_type": "display_data",
          "data": {
            "text/plain": [
              "<IPython.core.display.HTML object>"
            ],
            "text/html": [
              "<div><iframe src=\"https://3c469f54819faac20b.gradio.live\" width=\"100%\" height=\"500\" allow=\"autoplay; camera; microphone; clipboard-read; clipboard-write;\" frameborder=\"0\" allowfullscreen></iframe></div>"
            ]
          },
          "metadata": {}
        },
        {
          "output_type": "execute_result",
          "data": {
            "text/plain": []
          },
          "metadata": {},
          "execution_count": 48
        }
      ],
      "source": [
        "# Initialize the summarization pipeline\n",
        "summarizer = pipeline(\"summarization\", model=\"facebook/bart-large-cnn\")\n",
        "\n",
        "# Function to summarize the article text\n",
        "def summarize_text(article):\n",
        "    # Ensure the input text is not too short\n",
        "    if len(article.split()) < 30:\n",
        "        return \"Please enter a longer article for summarization.\"\n",
        "\n",
        "    # Generate the summary\n",
        "    summary = summarizer(article, max_length=130, min_length=30, do_sample=False)\n",
        "\n",
        "    # Extract and return the summary text\n",
        "    return summary[0]['summary_text']\n",
        "\n",
        "# Create the Gradio interface\n",
        "interface = gr.Interface(\n",
        "    fn=summarize_text,             # The function to summarize the text\n",
        "    inputs=gr.Textbox(lines=10, label=\"Enter Article Text\"),  # Input text box\n",
        "    outputs=gr.Textbox(label=\"Summary\"),  # Output text box\n",
        "    title=\"Automated Content Summarizer\",        # Title of the app\n",
        "    description=\"Enter a lengthy article or text, and this tool will generate a concise and informative summary.\"  # App description\n",
        ")\n",
        "\n",
        "# Launch the Gradio interface\n",
        "interface.launch()"
      ]
    },
    {
      "cell_type": "markdown",
      "metadata": {
        "id": "8kaX0Zzsrnxb"
      },
      "source": [
        "## **Fake News Detector**"
      ]
    },
    {
      "cell_type": "code",
      "execution_count": 49,
      "metadata": {
        "colab": {
          "base_uri": "https://localhost:8080/",
          "height": 663
        },
        "id": "12MuKQIDwFvt",
        "outputId": "a9f59012-a721-45d6-81db-d3482ef0ea64"
      },
      "outputs": [
        {
          "output_type": "stream",
          "name": "stdout",
          "text": [
            "Drive already mounted at /content/drive; to attempt to forcibly remount, call drive.mount(\"/content/drive\", force_remount=True).\n",
            "Setting queue=True in a Colab notebook requires sharing enabled. Setting `share=True` (you can turn this off by setting `share=False` in `launch()` explicitly).\n",
            "\n",
            "Colab notebook detected. To show errors in colab notebook, set debug=True in launch()\n",
            "Running on public URL: https://dcf919fff5ee326a3b.gradio.live\n",
            "\n",
            "This share link expires in 72 hours. For free permanent hosting and GPU upgrades, run `gradio deploy` from Terminal to deploy to Spaces (https://huggingface.co/spaces)\n"
          ]
        },
        {
          "output_type": "display_data",
          "data": {
            "text/plain": [
              "<IPython.core.display.HTML object>"
            ],
            "text/html": [
              "<div><iframe src=\"https://dcf919fff5ee326a3b.gradio.live\" width=\"100%\" height=\"500\" allow=\"autoplay; camera; microphone; clipboard-read; clipboard-write;\" frameborder=\"0\" allowfullscreen></iframe></div>"
            ]
          },
          "metadata": {}
        },
        {
          "output_type": "execute_result",
          "data": {
            "text/plain": []
          },
          "metadata": {},
          "execution_count": 49
        }
      ],
      "source": [
        "# Load dataset\n",
        "from google.colab import drive\n",
        "drive.mount('/content/drive')\n",
        "fake = pd.read_csv('/content/drive/MyDrive/Fake.csv')\n",
        "real = pd.read_csv('/content/drive/MyDrive/True.csv')\n",
        "\n",
        "# Create labels\n",
        "fake['label'] = 0\n",
        "real['label'] = 1\n",
        "\n",
        "# Concatenate datasets\n",
        "data = pd.concat([fake, real], ignore_index=True)\n",
        "\n",
        "# Split data\n",
        "X = data['text']\n",
        "y = data['label']\n",
        "\n",
        "# Split data\n",
        "X_train, X_test, y_train, y_test = train_test_split(X, y, test_size=0.2, random_state=42)\n",
        "\n",
        "# Create and train the model\n",
        "pipeline = Pipeline([\n",
        "    ('tfidf', TfidfVectorizer()),\n",
        "    ('clf', RandomForestClassifier())\n",
        "])\n",
        "pipeline.fit(X_train, y_train)\n",
        "\n",
        "# Fetch real-time news\n",
        "API_KEY = '8a9481f1cda44b65a209c39bca3851f7'\n",
        "BASE_URL = 'https://newsapi.org/v2/top-headlines'\n",
        "\n",
        "def fetch_real_time_news():\n",
        "    params = {\n",
        "        'apiKey': API_KEY,\n",
        "        'country': 'us',\n",
        "        'pageSize': 10\n",
        "    }\n",
        "    response = requests.get(BASE_URL, params=params)\n",
        "    if response.status_code == 200:\n",
        "        articles = response.json()['articles']\n",
        "        return [{'title': article['title'], 'description': article['description']} for article in articles]\n",
        "    else:\n",
        "        return []\n",
        "\n",
        "# Detect fake news\n",
        "def detect_fake_news(news_list):\n",
        "    results = []\n",
        "    for news in news_list:\n",
        "        text = news['title'] + \" \" + (news['description'] if news['description'] else \"\")\n",
        "        prediction = pipeline.predict([text])[0]\n",
        "        results.append({\n",
        "            'title': news['title'],\n",
        "            'description': news['description'],\n",
        "            'is_fake': 'Fake' if prediction == 1 else 'Real'\n",
        "        })\n",
        "    return results\n",
        "\n",
        "# Create the Gradio interface\n",
        "def summarize_and_classify():\n",
        "    news_list = fetch_real_time_news()\n",
        "    if not news_list:\n",
        "        return \"No news available at the moment.\"\n",
        "    results = detect_fake_news(news_list)\n",
        "    formatted_results = [\n",
        "        f\"Title: {result['title']}\\nDescription: {result['description']}\\nStatus: {result['is_fake']}\\n\\n\"\n",
        "        for result in results\n",
        "    ]\n",
        "    return \"\\n\".join(formatted_results)\n",
        "\n",
        "interface = gr.Interface(\n",
        "    fn=summarize_and_classify,\n",
        "    inputs=[],\n",
        "    outputs=gr.Textbox(label=\"News Classification\"),\n",
        "    title=\"Fake News Detector\",\n",
        "    description=\"Get real-time news and check if it's fake or real.\"\n",
        ")\n",
        "\n",
        "interface.launch()"
      ]
    }
  ],
  "metadata": {
    "colab": {
      "collapsed_sections": [
        "Sxg5ZC-8Ohoh",
        "fG_e6Gp72cyn",
        "9pYDZ-q9mKwr",
        "qeFGNsdGCn_k",
        "i1Qu35OI1DN1",
        "hJW2Vb3pOtYM",
        "2_28TH9Rn6Bq",
        "8kaX0Zzsrnxb"
      ],
      "provenance": []
    },
    "kernelspec": {
      "display_name": "Python 3",
      "name": "python3"
    },
    "language_info": {
      "name": "python"
    }
  },
  "nbformat": 4,
  "nbformat_minor": 0
}